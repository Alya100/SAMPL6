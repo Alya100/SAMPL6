{
 "cells": [
  {
   "cell_type": "markdown",
   "metadata": {},
   "source": [
    "# SAMPL6 host-guest preparation\n",
    "\n",
    "This notebook prepares small molecule structure files for the SAMPL6 host-guest challenge from source files already present in the source directories. OpenEye toolkits are required, as well as openbabel for the case of oxaliplatin.\n",
    "\n",
    "The procedure basically is as follows:\n",
    "- Load and prepare receptors (hosts) from provided PDB files\n",
    "- Prepare receptors for docking (to place guests into binding site)\n",
    "- Load guests molecules from SMILES strings\n",
    "- Charge guests and generate conformers\n",
    "- Dock to hosts\n",
    "- Write out results to mol2 and SDF\n",
    "- Handle oxaliplatin (a platinum-containing CB8 ligand) separately via openbabel for conformer generation; no charges\n",
    "\n",
    "## Handle imports of tools we're using throughout\n"
   ]
  },
  {
   "cell_type": "code",
   "execution_count": 1,
   "metadata": {
    "collapsed": true
   },
   "outputs": [],
   "source": [
    "from openeye.oechem import *\n",
    "from openeye.oeomega import *\n",
    "from openeye.oequacpac import *\n",
    "from openeye.oedocking import *\n",
    "import os"
   ]
  },
  {
   "cell_type": "markdown",
   "metadata": {},
   "source": [
    "## Load receptors from provided structure files (see README.md files)\n",
    "\n",
    "The receptors are loaded from the provided files (PDB for OA and TEMOA; SDF for CB8) and written out so that we have sdf, mol2, and PDB formats all available."
   ]
  },
  {
   "cell_type": "code",
   "execution_count": 2,
   "metadata": {
    "collapsed": false
   },
   "outputs": [],
   "source": [
    "# Specify source directory\n",
    "source_dir = '.'\n",
    "\n",
    "# Load host files\n",
    "ifile = oemolistream(os.path.join(source_dir, 'OctaAcidsAndGuests', 'OA.pdb'))\n",
    "OA = OEMol()\n",
    "OEReadMolecule( ifile, OA)\n",
    "ifile.close()\n",
    "\n",
    "ifile = oemolistream(os.path.join(source_dir, 'OctaAcidsAndGuests', 'TEMOA.pdb'))\n",
    "TEMOA = OEMol()\n",
    "OEReadMolecule( ifile, TEMOA)\n",
    "ifile.close()\n",
    "\n",
    "ifile = oemolistream(os.path.join(source_dir, 'CB8AndGuests', 'CB8.sdf'))\n",
    "CB8 = OEMol()\n",
    "OEReadMolecule( ifile, CB8)\n",
    "ifile.close()\n",
    "\n",
    "# Assign partial charges; this step will take a while and isn't necessary to generate basic files\n",
    "# (I ran this for about 25minutes and didn't get even the first one to converge on my laptop, so I'm skipping for now)\n",
    "#for mol in [OA, TEMOA, CB8]:\n",
    "#    OEAssignCharges(mol, OEAM1BCCCharges())\n",
    "\n",
    "# Write out host files to alternate formats (mol2, sdf)\n",
    "for fmt in ['.mol2', '.sdf']:\n",
    "    ofile = oemolostream(os.path.join(source_dir, 'OctaAcidsAndGuests', 'OA'+fmt))\n",
    "    OEWriteMolecule( ofile, OA)\n",
    "    ofile.close()\n",
    "    ofile = oemolostream(os.path.join(source_dir, 'OctaAcidsAndGuests', 'TEMOA'+fmt))\n",
    "    OEWriteMolecule( ofile, TEMOA)\n",
    "    ofile.close()\n",
    "    \n",
    "# Add write of CB8\n",
    "for fmt in ['.pdb', '.mol2']:\n",
    "    ofile = oemolostream(os.path.join(source_dir, 'CB8AndGuests', 'CB8'+fmt))\n",
    "    OEWriteMolecule( ofile, CB8)\n",
    "    ofile.close()"
   ]
  },
  {
   "cell_type": "markdown",
   "metadata": {},
   "source": [
    "## Prepare hosts for docking\n",
    "\n",
    "To place the guests into the binding site, we will dock into the receptors (hosts) so prep for docking. **This step can be somewhat slow (a few minutes)**."
   ]
  },
  {
   "cell_type": "code",
   "execution_count": 3,
   "metadata": {
    "collapsed": false
   },
   "outputs": [],
   "source": [
    "# Make receptors of the hosts for use in docking; takes about 4 minutes on my Mac\n",
    "receptors = {}\n",
    "\n",
    "for (hostname, hostmol) in [('OA', OA),('TEMOA', TEMOA), ('CB8', CB8)]:\n",
    "    # Start by getting center of mass to use as a hint for where to dock\n",
    "    com = OEFloatArray(3)\n",
    "    OEGetCenterOfMass(hostmol, com) #Try octa acid for now\n",
    "    # Create receptor, as per https://docs.eyesopen.com/toolkits/python/dockingtk/receptor.html#creating-a-receptor\n",
    "    receptor = OEGraphMol()\n",
    "    OEMakeReceptor(receptor, hostmol, com[0], com[1], com[2])\n",
    "    receptors[hostname]=receptor"
   ]
  },
  {
   "cell_type": "markdown",
   "metadata": {},
   "source": [
    "## Load, prepare, dock, and write OA/TEMOA guests\n",
    "\n",
    "We load each guest from SMILES (assigning protonation states roughly appropriate for neutral pH), use Omega to generate conformers, assign AM1-BCC charges, then dock to the relevant host and write out. We dock to both OA and TEMOA separately (though they use the same frame of reference) and write out \"OA-GN\" and \"TEMOA-GN\" files where N is a number from 0 to 7, corresponding to the guest. The molecules contained in these files are the same in both cases, but conformers/poses will be different.\n",
    "\n",
    "Disclaimer: We have no idea whether these are likely binding modes, good starting poses, etc. We are providing these as a potentially reasonable set of geometries, but use at your own risk."
   ]
  },
  {
   "cell_type": "code",
   "execution_count": 4,
   "metadata": {
    "collapsed": false
   },
   "outputs": [],
   "source": [
    "# Load initial octa acid molecule files, extract smiles\n",
    "smifilename = os.path.join(source_dir, 'Gibb_SAMPL6_guests.smi')\n",
    "smifile = open(smifilename, 'r')\n",
    "text = smifile.readlines()\n",
    "\n",
    "# Loop over OA, TEMOA and dock guests to each\n",
    "for hostname in ['OA', 'TEMOA']:\n",
    "\n",
    "    #Get SMILES, build names\n",
    "    smiles = [ line.split()[0] for line in text ]\n",
    "    guest_names = [ ('%s-' % hostname)+'G%s' % i for i in range(len(smiles))]\n",
    "\n",
    "    #initialize omega\n",
    "    omega = OEOmega()\n",
    "    omega.SetMaxConfs(100) #Generate up to 100 conformers since we'll use for docking\n",
    "    omega.SetIncludeInput(False)\n",
    "    omega.SetStrictStereo(True) #Refuse to generate conformers if stereochemistry not provided\n",
    "\n",
    "    #Initialize charge generation\n",
    "    chargeEngine = OEAM1BCCCharges()\n",
    "\n",
    "    # Initialize docking\n",
    "    dock = OEDock()\n",
    "    dock.Initialize(receptors[hostname])\n",
    "\n",
    "    # Build OEMols from SMILES\n",
    "    oemols = []\n",
    "    for (smi, name) in zip(smiles, guest_names):\n",
    "        # Generate new OEMol and parse SMILES\n",
    "        mol = OEMol()\n",
    "        OEParseSmiles( mol, smi)\n",
    "        OESetNeutralpHModel(mol)\n",
    "\n",
    "        # Generate conformers with Omega; keep only best conformer\n",
    "        status = omega(mol)\n",
    "        if not status:\n",
    "            print(\"Error generating conformers for %s, %s.\" % (smi, name))\n",
    "        #print(smi, name, mol.NumAtoms()) #Print debug info -- make sure we're getting protons added as we should\n",
    "\n",
    "        # Assign AM1-BCC charges\n",
    "        OEAssignCharges(mol, chargeEngine)\n",
    "\n",
    "        # Dock to hosts\n",
    "        dockedMol = OEGraphMol()\n",
    "        status = dock.DockMultiConformerMolecule(dockedMol, mol) #By default returns only top scoring pose\n",
    "        sdtag = OEDockMethodGetName(OEDockMethod_Chemgauss4)\n",
    "        OESetSDScore(dockedMol, dock, sdtag)\n",
    "        dock.AnnotatePose(dockedMol)\n",
    "\n",
    "        # Write out docked pose if docking successful, otherwise write out first generated conformer\n",
    "        if status == OEDockingReturnCode_Success:\n",
    "            outmol = dockedMol\n",
    "        else:\n",
    "            print(\"Docking failed for %s; storing input pose.\" % name)\n",
    "            # Delete excess conformers -- we want to write only one\n",
    "            for k, conf in enumerate( mol.GetConfs() ):\n",
    "                if k > 0:\n",
    "                    mol.DeleteConf(conf)\n",
    "            outmol = mol\n",
    "\n",
    "        # Write out\n",
    "        tripos_mol2_filename = os.path.join(source_dir, 'OctaAcidsAndGuests', name+'.mol2')\n",
    "        ofile = oemolostream( tripos_mol2_filename )\n",
    "        OEWriteMolecule( ofile, outmol)\n",
    "        ofile.close()\n",
    "        # Add write of SDF\n",
    "        sdf_filename = os.path.join(source_dir, 'OctaAcidsAndGuests', name+'.sdf')\n",
    "        ofile = oemolostream( sdf_filename )\n",
    "        OEWriteMolecule( ofile, outmol)\n",
    "        ofile.close()\n",
    "\n",
    "        # Save to oemols\n",
    "        oemols.append(OEMol(outmol))\n",
    "\n",
    "        # Clean up residue names in mol2 files that are tleap-incompatible: replace substructure names with valid text.\n",
    "        infile = open( tripos_mol2_filename, 'r')\n",
    "        lines = infile.readlines()\n",
    "        infile.close()\n",
    "        newlines = [line.replace('<0>', name) for line in lines]\n",
    "        outfile = open(tripos_mol2_filename, 'w')\n",
    "        outfile.writelines(newlines)\n",
    "        outfile.close()\n"
   ]
  },
  {
   "cell_type": "markdown",
   "metadata": {},
   "source": [
    "## Load, prepare, dock, and write CB8 guests\n",
    "\n",
    "We load each guest from SMILES (assigning protonation states roughly appropriate for neutral pH), use Omega to generate conformers, assign AM1-BCC charges, then dock to CB8 and write out. Conformer generation for oxaliplatin (a bonus case) to CB8 fails because of the platinum, so a separate procedure is used in an additional cell below for this case.\n",
    "\n",
    "Disclaimer: We have no idea whether these are likely binding modes, good starting poses, etc. We are providing these as a potentially reasonable set of geometries, but use at your own risk."
   ]
  },
  {
   "cell_type": "code",
   "execution_count": 5,
   "metadata": {
    "collapsed": false
   },
   "outputs": [
    {
     "name": "stdout",
     "output_type": "stream",
     "text": [
      "Error generating conformers for O=C(C(O1)=O)O[Pt]21[NH2][C@@H]3CCCC[C@H]3[NH2]2, CB8-G13.\n",
      "Docking failed for CB8-G13; storing input pose.\n"
     ]
    }
   ],
   "source": [
    "# Load initial CB8 molecule files, extract smiles\n",
    "smifilename = os.path.join(source_dir, 'Isaacs_SAMPL6_guests.smi')\n",
    "smifile = open(smifilename, 'r')\n",
    "text = smifile.readlines()\n",
    "\n",
    "\n",
    "\n",
    "#Get SMILES, build names\n",
    "smiles = [ line.split()[0] for line in text ]\n",
    "guest_names = [ 'CB8-G%s' % i for i in range(len(smiles))]\n",
    "\n",
    "#initialize omega\n",
    "omega = OEOmega()\n",
    "omega.SetMaxConfs(100) #Generate up to 100 conformers since we'll use for docking\n",
    "omega.SetIncludeInput(False)\n",
    "omega.SetStrictStereo(True) #Refuse to generate conformers if stereochemistry not provided\n",
    "\n",
    "#Initialize charge generation\n",
    "chargeEngine = OEAM1BCCCharges()\n",
    "\n",
    "# Initialize docking\n",
    "dock = OEDock()\n",
    "dock.Initialize(receptors['CB8']) \n",
    "\n",
    "# Build OEMols from SMILES\n",
    "oemols = []\n",
    "for (smi, name) in zip(smiles, guest_names):\n",
    "    # Generate new OEMol and parse SMILES\n",
    "    mol = OEMol()\n",
    "    OEParseSmiles( mol, smi)\n",
    "    OESetNeutralpHModel(mol)\n",
    "\n",
    "    # Generate conformers with Omega; keep only best conformer\n",
    "    status = omega(mol)\n",
    "    if not status:\n",
    "        print(\"Error generating conformers for %s, %s.\" % (smi, name))\n",
    "    #print(smi, name, mol.NumAtoms()) #Print debug info -- make sure we're getting protons added as we should\n",
    "\n",
    "    # Assign AM1-BCC charges\n",
    "    OEAssignCharges(mol, chargeEngine)\n",
    "\n",
    "    # Dock to hosts\n",
    "    dockedMol = OEGraphMol()\n",
    "    status = dock.DockMultiConformerMolecule(dockedMol, mol) #By default returns only top scoring pose\n",
    "    sdtag = OEDockMethodGetName(OEDockMethod_Chemgauss4)\n",
    "    OESetSDScore(dockedMol, dock, sdtag)\n",
    "    dock.AnnotatePose(dockedMol)\n",
    "\n",
    "    # Write out docked pose if docking successful, otherwise write out first generated conformer\n",
    "    if status == OEDockingReturnCode_Success:\n",
    "        outmol = dockedMol\n",
    "    else:\n",
    "        print(\"Docking failed for %s; storing input pose.\" % name)\n",
    "        # Delete excess conformers -- we want to write only one\n",
    "        for k, conf in enumerate( mol.GetConfs() ):\n",
    "            if k > 0:\n",
    "                mol.DeleteConf(conf)\n",
    "        outmol = mol\n",
    "\n",
    "    # Write out\n",
    "    tripos_mol2_filename = os.path.join(source_dir, 'CB8AndGuests', name+'.mol2')\n",
    "    ofile = oemolostream( tripos_mol2_filename )\n",
    "    OEWriteMolecule( ofile, outmol)\n",
    "    ofile.close()\n",
    "    # Add write of SDF\n",
    "    sdf_filename = os.path.join(source_dir, 'CB8AndGuests', name+'.sdf')\n",
    "    ofile = oemolostream( sdf_filename )\n",
    "    OEWriteMolecule( ofile, outmol)\n",
    "    ofile.close()\n",
    "\n",
    "    # Save to oemols\n",
    "    oemols.append(OEMol(outmol))\n",
    "\n",
    "    # Clean up residue names in mol2 files that are tleap-incompatible: replace substructure names with valid text.\n",
    "    infile = open( tripos_mol2_filename, 'r')\n",
    "    lines = infile.readlines()\n",
    "    infile.close()\n",
    "    newlines = [line.replace('<0>', name) for line in lines]\n",
    "    outfile = open(tripos_mol2_filename, 'w')\n",
    "    outfile.writelines(newlines)\n",
    "    outfile.close()\n"
   ]
  },
  {
   "cell_type": "markdown",
   "metadata": {},
   "source": [
    "## Handle conformer generation and docking of oxaliplatin\n",
    "OpenBabel appears to be able to handle conformer generation for oxaliplatin, so generate its conformer and then use the same docking procedure (though this time skipping charging of the guest).\n",
    "\n",
    "I am told that the resulting geometry of oxaliplatin is incorrect, which is perhaps not surprising since presumably the platinum poses problems for most of our modeling tools. If participants would like to study this compounds, they are encouraged to carefully examine and prepare a suitable 3D conformation before beginning their studies."
   ]
  },
  {
   "cell_type": "code",
   "execution_count": 6,
   "metadata": {
    "collapsed": false
   },
   "outputs": [],
   "source": [
    "# Oxaliplatin fails, so use openbabel to at least generate a 3D structure of it\n",
    "import os\n",
    "file = open('oxaliplatin.smi', 'w')\n",
    "file.write(smiles[-1]) #Assumes it is last!\n",
    "file.close()\n",
    "\n",
    "os.system('obabel -ismi oxaliplatin.smi -omol2 -O tmp.mol2 --gen3d')\n",
    "istream = oemolistream('tmp.mol2')\n",
    "mol = OEMol()\n",
    "OEReadMolecule(istream, mol)\n",
    "istream.close()\n",
    "os.system('rm oxaliplatin.smi')\n",
    "os.system('rm tmp.mol2')\n",
    "\n",
    "# Can't charge this (no BCCs for Pt) so skip\n",
    "\n",
    "# Dock to at least place in right region\n",
    "dockedMol = OEGraphMol()\n",
    "status = dock.DockMultiConformerMolecule(dockedMol, mol) #By default returns only top scoring pose\n",
    "sdtag = OEDockMethodGetName(OEDockMethod_Chemgauss4)\n",
    "OESetSDScore(dockedMol, dock, sdtag)\n",
    "dock.AnnotatePose(dockedMol)\n",
    "outmol = dockedMol\n",
    "\n",
    "# Write out\n",
    "tripos_mol2_filename = os.path.join(source_dir, 'CB8AndGuests', guest_names[-1]+'.mol2')\n",
    "ofile = oemolostream( tripos_mol2_filename )\n",
    "OEWriteMolecule( ofile, outmol)\n",
    "ofile.close()\n",
    "# Add write of SDF\n",
    "sdf_filename = os.path.join(source_dir, 'CB8AndGuests', guest_names[-1]+'.sdf')\n",
    "ofile = oemolostream( sdf_filename )\n",
    "OEWriteMolecule( ofile, outmol)\n",
    "ofile.close()"
   ]
  },
  {
   "cell_type": "markdown",
   "metadata": {},
   "source": [
    "# Final results\n",
    "\n",
    "We now should have final docked poses for the Octa Acid (OA and TEMOA) and CB8 guests, organized into the relevant directories. I have manually inspected all of the files I generated in the hosts and at least verified that the guests reside roughly inside the hosts without any overlapping atoms. Whether you use these or not is entirely up to you, and the usual disclaimers apply (don't assume we have the right protonation states, etc.)."
   ]
  },
  {
   "cell_type": "code",
   "execution_count": null,
   "metadata": {
    "collapsed": true
   },
   "outputs": [],
   "source": []
  }
 ],
 "metadata": {
  "anaconda-cloud": {},
  "kernelspec": {
   "display_name": "Python [conda root]",
   "language": "python",
   "name": "conda-root-py"
  },
  "language_info": {
   "codemirror_mode": {
    "name": "ipython",
    "version": 3
   },
   "file_extension": ".py",
   "mimetype": "text/x-python",
   "name": "python",
   "nbconvert_exporter": "python",
   "pygments_lexer": "ipython3",
   "version": "3.5.2"
  }
 },
 "nbformat": 4,
 "nbformat_minor": 1
}
